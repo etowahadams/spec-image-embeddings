{
 "cells": [
  {
   "cell_type": "code",
   "execution_count": 68,
   "id": "d65fe342-db36-4465-9a0f-af0c3410419c",
   "metadata": {
    "tags": []
   },
   "outputs": [],
   "source": [
    "import os\n",
    "import torch\n",
    "from PIL import Image\n",
    "from transformers import CLIPProcessor, CLIPModel\n",
    "import csv\n",
    "import json\n",
    "import pandas as pd"
   ]
  },
  {
   "cell_type": "code",
   "execution_count": 69,
   "id": "5aa1380c-f0bb-4f65-a847-2b88c4687ba9",
   "metadata": {
    "tags": []
   },
   "outputs": [],
   "source": [
    "# Load the CLIP model\n",
    "model = CLIPModel.from_pretrained(\"openai/clip-vit-base-patch32\")\n",
    "processor = CLIPProcessor.from_pretrained(\"openai/clip-vit-base-patch32\")"
   ]
  },
  {
   "cell_type": "markdown",
   "id": "0cb92363-2aea-46e7-a9d2-6f8ae1dda5b4",
   "metadata": {},
   "source": [
    "# Write embeddings to CSV file"
   ]
  },
  {
   "cell_type": "code",
   "execution_count": 70,
   "id": "0833f05e-699a-4f18-9257-80049403e900",
   "metadata": {
    "tags": []
   },
   "outputs": [
    {
     "name": "stdout",
     "output_type": "stream",
     "text": [
      "Embeddings have been saved to image_embeddings.csv\n"
     ]
    }
   ],
   "source": [
    "# Directory containing your images\n",
    "image_dir = 'screenshots'\n",
    "\n",
    "# CSV file to save embeddings\n",
    "csv_file = 'image_embeddings.csv'\n",
    "\n",
    "# Open a CSV file for writing\n",
    "with open(csv_file, mode='w', newline='') as file:\n",
    "    writer = csv.writer(file)\n",
    "    # Write the header row\n",
    "    writer.writerow([\"Filename\", \"Embeddings\"])\n",
    "    \n",
    "    # Loop through all images in the directory\n",
    "    for image_name in os.listdir(image_dir):\n",
    "        # Make sure to process only files with a .jpg or .png extension\n",
    "        if image_name.endswith('.jpg') or image_name.endswith('.png'):\n",
    "            image_path = os.path.join(image_dir, image_name)\n",
    "            \n",
    "            # Open the image\n",
    "            image = Image.open(image_path)\n",
    "            \n",
    "            # Process the image for the CLIP model\n",
    "            inputs = processor(images=image, return_tensors=\"pt\", padding=True)\n",
    "            \n",
    "            # Generate embeddings\n",
    "            with torch.no_grad():\n",
    "                embeddings = model.get_image_features(**inputs).numpy()\n",
    "                \n",
    "            # Convert the embeddings to a list for CSV writing\n",
    "            embeddings_list = embeddings.flatten().tolist()\n",
    "            \n",
    "            # Write the filename and embeddings to the CSV file\n",
    "            writer.writerow([image_name, embeddings_list])\n",
    "\n",
    "print(\"Embeddings have been saved to\", csv_file)"
   ]
  }
 ],
 "metadata": {
  "kernelspec": {
   "display_name": "Python 3 (ipykernel)",
   "language": "python",
   "name": "python3"
  },
  "language_info": {
   "codemirror_mode": {
    "name": "ipython",
    "version": 3
   },
   "file_extension": ".py",
   "mimetype": "text/x-python",
   "name": "python",
   "nbconvert_exporter": "python",
   "pygments_lexer": "ipython3",
   "version": "3.12.3"
  }
 },
 "nbformat": 4,
 "nbformat_minor": 5
}
